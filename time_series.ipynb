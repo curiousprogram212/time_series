{
  "nbformat": 4,
  "nbformat_minor": 0,
  "metadata": {
    "colab": {
      "provenance": []
    },
    "kernelspec": {
      "name": "python3",
      "display_name": "Python 3"
    },
    "language_info": {
      "name": "python"
    }
  },
  "cells": [
    {
      "cell_type": "code",
      "execution_count": null,
      "metadata": {
        "id": "9Y5hRlJBbRIc"
      },
      "outputs": [],
      "source": [
        "import numpy as np\n",
        "import pandas as pd\n",
        "\n",
        "fb = pd.read_csv('data/fb_2018.csv', index_col='date', parse_dates=True).assign(\n",
        "    trading_volume=lambda x: pd.cut(x.volume, bins=3, labels=['low', 'med', 'high'])\n",
        ")\n",
        "fb.head()"
      ]
    },
    {
      "cell_type": "code",
      "source": [
        "fb['2018-10-11':'2018-10-15']\n"
      ],
      "metadata": {
        "id": "B7whpdqKbTw9"
      },
      "execution_count": null,
      "outputs": []
    },
    {
      "cell_type": "code",
      "source": [
        "fb.loc['2018-q1'].equals(fb['2018-01':'2018-03'])\n"
      ],
      "metadata": {
        "id": "SboMrZSkbVa7"
      },
      "execution_count": null,
      "outputs": []
    },
    {
      "cell_type": "code",
      "source": [
        "fb.first('1W')\n"
      ],
      "metadata": {
        "id": "K5tvAnaQbZC_"
      },
      "execution_count": null,
      "outputs": []
    },
    {
      "cell_type": "code",
      "source": [
        "fb_reindexed = fb.reindex(pd.date_range('2018-01-01', '2018-12-31', freq='D'))\n",
        "fb_reindexed.first('1D').isna().squeeze().all()"
      ],
      "metadata": {
        "id": "BGL2CoaybbJH"
      },
      "execution_count": null,
      "outputs": []
    },
    {
      "cell_type": "code",
      "source": [
        "stock_data_per_minute = pd.read_csv(\n",
        "    'data/fb_week_of_may_20_per_minute.csv', index_col='date', parse_dates=True,\n",
        "    date_parser=lambda x: pd.to_datetime(x, format='%Y-%m-%d %H-%M')\n",
        ")\n",
        "\n",
        "stock_data_per_minute.head()"
      ],
      "metadata": {
        "id": "SuiHH-zhcAFG"
      },
      "execution_count": null,
      "outputs": []
    },
    {
      "cell_type": "code",
      "source": [
        "stock_data_per_minute.groupby(pd.Grouper(freq='1D')).agg({\n",
        "    'open': 'first',\n",
        "    'high': 'max',\n",
        "    'low': 'min',\n",
        "    'close': 'last',\n",
        "    'volume': 'sum'\n",
        "})"
      ],
      "metadata": {
        "id": "_bPySnBQcHC_"
      },
      "execution_count": null,
      "outputs": []
    },
    {
      "cell_type": "code",
      "source": [
        "shares_traded_in_first_30_min = stock_data_per_minute\\\n",
        "    .between_time('9:30', '10:00')\\\n",
        "    .groupby(pd.Grouper(freq='1D'))\\\n",
        "    .filter(lambda x: (x.volume > 0).all())\\\n",
        "    .volume.mean()\n",
        "\n",
        "shares_traded_in_last_30_min = stock_data_per_minute\\\n",
        "    .between_time('15:30', '16:00')\\\n",
        "    .groupby(pd.Grouper(freq='1D'))\\\n",
        "    .filter(lambda x: (x.volume > 0).all())\\\n",
        "    .volume.mean()\n",
        "\n",
        "shares_traded_in_first_30_min - shares_traded_in_last_30_min"
      ],
      "metadata": {
        "id": "qsbRWwhecJtz"
      },
      "execution_count": null,
      "outputs": []
    }
  ]
}